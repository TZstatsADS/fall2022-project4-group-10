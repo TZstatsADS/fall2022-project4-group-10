{
  "nbformat": 4,
  "nbformat_minor": 0,
  "metadata": {
    "colab": {
      "provenance": []
    },
    "kernelspec": {
      "name": "python3",
      "display_name": "Python 3"
    },
    "language_info": {
      "name": "python"
    }
  },
  "cells": [
    {
      "cell_type": "code",
      "execution_count": 1,
      "metadata": {
        "colab": {
          "base_uri": "https://localhost:8080/"
        },
        "id": "7JSDWh5yWDGu",
        "outputId": "faf07228-83da-4311-9555-dd896a83ec5e"
      },
      "outputs": [
        {
          "output_type": "stream",
          "name": "stdout",
          "text": [
            "Cloning into 'compas-analysis'...\n",
            "remote: Enumerating objects: 31, done.\u001b[K\n",
            "remote: Total 31 (delta 0), reused 0 (delta 0), pack-reused 31\u001b[K\n",
            "Unpacking objects: 100% (31/31), done.\n"
          ]
        }
      ],
      "source": [
        "! git clone https://github.com/propublica/compas-analysis.git"
      ]
    },
    {
      "cell_type": "code",
      "source": [
        "!ls"
      ],
      "metadata": {
        "colab": {
          "base_uri": "https://localhost:8080/"
        },
        "id": "LGNpDEhrWzN1",
        "outputId": "ab5e9539-85d4-44db-f722-49b739cdb4ed"
      },
      "execution_count": 2,
      "outputs": [
        {
          "output_type": "stream",
          "name": "stdout",
          "text": [
            "compas-analysis  sample_data\n"
          ]
        }
      ]
    },
    {
      "cell_type": "code",
      "source": [
        "! ls compas-analysis/"
      ],
      "metadata": {
        "colab": {
          "base_uri": "https://localhost:8080/"
        },
        "id": "cyhyTcEzW28v",
        "outputId": "5ad9b3fa-d9e2-4117-e706-181f6c1f7dfb"
      },
      "execution_count": 3,
      "outputs": [
        {
          "output_type": "stream",
          "name": "stdout",
          "text": [
            "'Compas Analysis.ipynb'\n",
            " compas.db\n",
            " compas-scores.csv\n",
            " compas-scores-raw.csv\n",
            " compas-scores-two-years.csv\n",
            " compas-scores-two-years-violent.csv\n",
            " cox-parsed.csv\n",
            " cox-violent-parsed.csv\n",
            "'Cox with interaction term and independent variables.ipynb'\n",
            " README\n",
            " truth_tables.py\n"
          ]
        }
      ]
    },
    {
      "cell_type": "code",
      "source": [
        "import pandas as pd\n",
        "import numpy as np"
      ],
      "metadata": {
        "id": "eSB-6O9rW5ZL"
      },
      "execution_count": 4,
      "outputs": []
    },
    {
      "cell_type": "code",
      "source": [
        "df = pd.read_csv(\"compas-analysis/compas-scores-two-years.csv\")"
      ],
      "metadata": {
        "id": "FVFeXwbGXOAV"
      },
      "execution_count": 5,
      "outputs": []
    },
    {
      "cell_type": "code",
      "source": [
        "# select features\n",
        "df_selected = df[['two_year_recid', 'race', 'age', 'priors_count', 'decile_score']]\n",
        "# select only African-Amereican and Caucasian\n",
        "df_selected = df_selected.loc[df_selected['race'].isin(('African-American', 'Caucasian'))]\n",
        "# change African-American = 0, Caucasian = 1\n",
        "df_selected.loc[df_selected[\"race\"] == \"African-American\", \"race\"] = 0\n",
        "df_selected.loc[df_selected[\"race\"] == \"Caucasian\", \"race\"] = 1\n",
        "\n",
        "df_selected.head()"
      ],
      "metadata": {
        "colab": {
          "base_uri": "https://localhost:8080/",
          "height": 206
        },
        "id": "dNOrwGoRXkwl",
        "outputId": "59a3f27a-7a51-440c-9eee-10dfc6ffc29a"
      },
      "execution_count": 6,
      "outputs": [
        {
          "output_type": "execute_result",
          "data": {
            "text/plain": [
              "   two_year_recid race  age  priors_count  decile_score\n",
              "1               1    0   34             0             3\n",
              "2               1    0   24             4             4\n",
              "3               0    0   23             1             8\n",
              "6               1    1   41            14             6\n",
              "8               0    1   39             0             1"
            ],
            "text/html": [
              "\n",
              "  <div id=\"df-344d157d-b264-44a2-a742-2a12b050a8c8\">\n",
              "    <div class=\"colab-df-container\">\n",
              "      <div>\n",
              "<style scoped>\n",
              "    .dataframe tbody tr th:only-of-type {\n",
              "        vertical-align: middle;\n",
              "    }\n",
              "\n",
              "    .dataframe tbody tr th {\n",
              "        vertical-align: top;\n",
              "    }\n",
              "\n",
              "    .dataframe thead th {\n",
              "        text-align: right;\n",
              "    }\n",
              "</style>\n",
              "<table border=\"1\" class=\"dataframe\">\n",
              "  <thead>\n",
              "    <tr style=\"text-align: right;\">\n",
              "      <th></th>\n",
              "      <th>two_year_recid</th>\n",
              "      <th>race</th>\n",
              "      <th>age</th>\n",
              "      <th>priors_count</th>\n",
              "      <th>decile_score</th>\n",
              "    </tr>\n",
              "  </thead>\n",
              "  <tbody>\n",
              "    <tr>\n",
              "      <th>1</th>\n",
              "      <td>1</td>\n",
              "      <td>0</td>\n",
              "      <td>34</td>\n",
              "      <td>0</td>\n",
              "      <td>3</td>\n",
              "    </tr>\n",
              "    <tr>\n",
              "      <th>2</th>\n",
              "      <td>1</td>\n",
              "      <td>0</td>\n",
              "      <td>24</td>\n",
              "      <td>4</td>\n",
              "      <td>4</td>\n",
              "    </tr>\n",
              "    <tr>\n",
              "      <th>3</th>\n",
              "      <td>0</td>\n",
              "      <td>0</td>\n",
              "      <td>23</td>\n",
              "      <td>1</td>\n",
              "      <td>8</td>\n",
              "    </tr>\n",
              "    <tr>\n",
              "      <th>6</th>\n",
              "      <td>1</td>\n",
              "      <td>1</td>\n",
              "      <td>41</td>\n",
              "      <td>14</td>\n",
              "      <td>6</td>\n",
              "    </tr>\n",
              "    <tr>\n",
              "      <th>8</th>\n",
              "      <td>0</td>\n",
              "      <td>1</td>\n",
              "      <td>39</td>\n",
              "      <td>0</td>\n",
              "      <td>1</td>\n",
              "    </tr>\n",
              "  </tbody>\n",
              "</table>\n",
              "</div>\n",
              "      <button class=\"colab-df-convert\" onclick=\"convertToInteractive('df-344d157d-b264-44a2-a742-2a12b050a8c8')\"\n",
              "              title=\"Convert this dataframe to an interactive table.\"\n",
              "              style=\"display:none;\">\n",
              "        \n",
              "  <svg xmlns=\"http://www.w3.org/2000/svg\" height=\"24px\"viewBox=\"0 0 24 24\"\n",
              "       width=\"24px\">\n",
              "    <path d=\"M0 0h24v24H0V0z\" fill=\"none\"/>\n",
              "    <path d=\"M18.56 5.44l.94 2.06.94-2.06 2.06-.94-2.06-.94-.94-2.06-.94 2.06-2.06.94zm-11 1L8.5 8.5l.94-2.06 2.06-.94-2.06-.94L8.5 2.5l-.94 2.06-2.06.94zm10 10l.94 2.06.94-2.06 2.06-.94-2.06-.94-.94-2.06-.94 2.06-2.06.94z\"/><path d=\"M17.41 7.96l-1.37-1.37c-.4-.4-.92-.59-1.43-.59-.52 0-1.04.2-1.43.59L10.3 9.45l-7.72 7.72c-.78.78-.78 2.05 0 2.83L4 21.41c.39.39.9.59 1.41.59.51 0 1.02-.2 1.41-.59l7.78-7.78 2.81-2.81c.8-.78.8-2.07 0-2.86zM5.41 20L4 18.59l7.72-7.72 1.47 1.35L5.41 20z\"/>\n",
              "  </svg>\n",
              "      </button>\n",
              "      \n",
              "  <style>\n",
              "    .colab-df-container {\n",
              "      display:flex;\n",
              "      flex-wrap:wrap;\n",
              "      gap: 12px;\n",
              "    }\n",
              "\n",
              "    .colab-df-convert {\n",
              "      background-color: #E8F0FE;\n",
              "      border: none;\n",
              "      border-radius: 50%;\n",
              "      cursor: pointer;\n",
              "      display: none;\n",
              "      fill: #1967D2;\n",
              "      height: 32px;\n",
              "      padding: 0 0 0 0;\n",
              "      width: 32px;\n",
              "    }\n",
              "\n",
              "    .colab-df-convert:hover {\n",
              "      background-color: #E2EBFA;\n",
              "      box-shadow: 0px 1px 2px rgba(60, 64, 67, 0.3), 0px 1px 3px 1px rgba(60, 64, 67, 0.15);\n",
              "      fill: #174EA6;\n",
              "    }\n",
              "\n",
              "    [theme=dark] .colab-df-convert {\n",
              "      background-color: #3B4455;\n",
              "      fill: #D2E3FC;\n",
              "    }\n",
              "\n",
              "    [theme=dark] .colab-df-convert:hover {\n",
              "      background-color: #434B5C;\n",
              "      box-shadow: 0px 1px 3px 1px rgba(0, 0, 0, 0.15);\n",
              "      filter: drop-shadow(0px 1px 2px rgba(0, 0, 0, 0.3));\n",
              "      fill: #FFFFFF;\n",
              "    }\n",
              "  </style>\n",
              "\n",
              "      <script>\n",
              "        const buttonEl =\n",
              "          document.querySelector('#df-344d157d-b264-44a2-a742-2a12b050a8c8 button.colab-df-convert');\n",
              "        buttonEl.style.display =\n",
              "          google.colab.kernel.accessAllowed ? 'block' : 'none';\n",
              "\n",
              "        async function convertToInteractive(key) {\n",
              "          const element = document.querySelector('#df-344d157d-b264-44a2-a742-2a12b050a8c8');\n",
              "          const dataTable =\n",
              "            await google.colab.kernel.invokeFunction('convertToInteractive',\n",
              "                                                     [key], {});\n",
              "          if (!dataTable) return;\n",
              "\n",
              "          const docLinkHtml = 'Like what you see? Visit the ' +\n",
              "            '<a target=\"_blank\" href=https://colab.research.google.com/notebooks/data_table.ipynb>data table notebook</a>'\n",
              "            + ' to learn more about interactive tables.';\n",
              "          element.innerHTML = '';\n",
              "          dataTable['output_type'] = 'display_data';\n",
              "          await google.colab.output.renderOutput(dataTable, element);\n",
              "          const docLink = document.createElement('div');\n",
              "          docLink.innerHTML = docLinkHtml;\n",
              "          element.appendChild(docLink);\n",
              "        }\n",
              "      </script>\n",
              "    </div>\n",
              "  </div>\n",
              "  "
            ]
          },
          "metadata": {},
          "execution_count": 6
        }
      ]
    },
    {
      "cell_type": "code",
      "source": [
        "df_selected.shape"
      ],
      "metadata": {
        "colab": {
          "base_uri": "https://localhost:8080/"
        },
        "id": "cCHBhhe0u36d",
        "outputId": "f780bc30-dedf-4e4a-8bb1-5a33e0c158d2"
      },
      "execution_count": 25,
      "outputs": [
        {
          "output_type": "execute_result",
          "data": {
            "text/plain": [
              "(6150, 5)"
            ]
          },
          "metadata": {},
          "execution_count": 25
        }
      ]
    },
    {
      "cell_type": "code",
      "source": [
        "from sklearn.datasets import make_classification\n",
        "X, y = make_classification(n_features=4, n_redundant=0, \n",
        "                           n_informative=2, random_state=1, \n",
        "                           n_clusters_per_class=1)\n",
        "\n",
        "def sigmoid(z):\n",
        "    return 1.0/(1 + np.exp(-z))\n",
        "\n",
        "def loss(y, y_hat):\n",
        "    loss = -np.mean(y*(np.log(y_hat)) - (1-y)*np.log(1-y_hat))\n",
        "    return loss\n",
        "\n",
        "def gradients(X, y, y_hat):\n",
        "    \n",
        "    # X --> Input.\n",
        "    # y --> true/target value.\n",
        "    # y_hat --> hypothesis/predictions.\n",
        "    # w --> weights (parameter).\n",
        "    # b --> bias (parameter).\n",
        "    \n",
        "    # m-> number of training examples.\n",
        "    m = X.shape[0]\n",
        "    \n",
        "    # Gradient of loss w.r.t weights.\n",
        "    dw = (1/m)*np.dot(X.T, (y_hat - y))\n",
        "    \n",
        "    # Gradient of loss w.r.t bias.\n",
        "    db = (1/m)*np.sum((y_hat - y)) \n",
        "    \n",
        "    return dw, db\n",
        "\n",
        "def normalize(X):\n",
        "    \n",
        "    # X --> Input.\n",
        "    \n",
        "    # m-> number of training examples\n",
        "    # n-> number of features \n",
        "    m, n = X.shape\n",
        "    \n",
        "    # Normalizing all the n features of X.\n",
        "    for i in range(n):\n",
        "        X = (X - X.mean(axis=0))/X.std(axis=0)\n",
        "        \n",
        "    return X"
      ],
      "metadata": {
        "id": "juaAN9ZuXlQj"
      },
      "execution_count": 26,
      "outputs": []
    },
    {
      "cell_type": "markdown",
      "source": [
        "## Train Function"
      ],
      "metadata": {
        "id": "96OGLsIZofo5"
      }
    },
    {
      "cell_type": "code",
      "source": [
        "def train(X, y, bs, epochs, lr):\n",
        "    \n",
        "    # X --> Input.\n",
        "    # y --> true/target value.\n",
        "    # bs --> Batch Size.\n",
        "    # epochs --> Number of iterations.\n",
        "    # lr --> Learning rate.\n",
        "        \n",
        "    # m-> number of training examples\n",
        "    # n-> number of features \n",
        "    m, n = X.shape\n",
        "    \n",
        "    # Initializing weights and bias to zeros.\n",
        "    w = np.zeros((n,1))\n",
        "    b = 0\n",
        "    \n",
        "    # Reshaping y.\n",
        "    y = y.reshape(m,1)\n",
        "    \n",
        "    # Normalizing the inputs.\n",
        "    x = normalize(X)\n",
        "    \n",
        "    # Empty list to store losses.\n",
        "    losses = []\n",
        "    \n",
        "    # Training loop.\n",
        "    for epoch in range(epochs):\n",
        "        for i in range((m-1)//bs + 1):\n",
        "            \n",
        "            # Defining batches. SGD.\n",
        "            start_i = i*bs\n",
        "            end_i = start_i + bs\n",
        "            xb = X[start_i:end_i]\n",
        "            yb = y[start_i:end_i]\n",
        "            \n",
        "            # Calculating hypothesis/prediction.\n",
        "            y_hat = sigmoid(np.dot(xb, w) + b)\n",
        "            \n",
        "            # Getting the gradients of loss w.r.t parameters.\n",
        "            dw, db = gradients(xb, yb, y_hat)\n",
        "            \n",
        "            # Updating the parameters.\n",
        "            w -= lr*dw\n",
        "            b -= lr*db\n",
        "        \n",
        "        # Calculating loss and appending it in the list.\n",
        "        l = loss(y, sigmoid(np.dot(X, w) + b))\n",
        "        losses.append(l)\n",
        "        \n",
        "    # returning weights, bias and losses(List).\n",
        "    return w, b, losses"
      ],
      "metadata": {
        "id": "pHz4ANRAoOSm"
      },
      "execution_count": 27,
      "outputs": []
    },
    {
      "cell_type": "markdown",
      "source": [
        "## Predict Function"
      ],
      "metadata": {
        "id": "hyZS7Xx2okla"
      }
    },
    {
      "cell_type": "code",
      "source": [
        "def predict(X):\n",
        "    \n",
        "    # X --> Input.\n",
        "    \n",
        "    # Normalizing the inputs.\n",
        "    x = normalize(X)\n",
        "    \n",
        "    # Calculating presictions/y_hat.\n",
        "    preds = sigmoid(np.dot(X, w) + b)\n",
        "    \n",
        "    # Empty List to store predictions.\n",
        "    pred_class = []\n",
        "    # if y_hat >= 0.5 --> round up to 1\n",
        "    # if y_hat < 0.5 --> round up to 1\n",
        "    pred_class = [1 if i > 0.5 else 0 for i in preds]\n",
        "    \n",
        "    return np.array(pred_class)"
      ],
      "metadata": {
        "id": "1uU2BHp8ojuR"
      },
      "execution_count": 28,
      "outputs": []
    },
    {
      "cell_type": "markdown",
      "source": [
        "## Train and predict"
      ],
      "metadata": {
        "id": "srb7DTIGoqL6"
      }
    },
    {
      "cell_type": "code",
      "source": [
        "# Training \n",
        "X = df_selected[['race', 'age', 'priors_count', 'decile_score']].to_numpy(dtype=\"float32\")\n",
        "y = df_selected['two_year_recid'].to_numpy(dtype=\"float32\")\n",
        "w, b, l = train(X, y, bs=1000, epochs=1000, lr=0.01)\n"
      ],
      "metadata": {
        "id": "XQp_VtgjonBD"
      },
      "execution_count": 29,
      "outputs": []
    },
    {
      "cell_type": "code",
      "source": [
        "from sklearn.metrics import accuracy_score\n",
        "accuracy_score(y,predict(X))\n"
      ],
      "metadata": {
        "colab": {
          "base_uri": "https://localhost:8080/"
        },
        "id": "oaYc15-Ktibz",
        "outputId": "f6d57966-eca7-47a0-d0c3-8b8ac953a624"
      },
      "execution_count": 30,
      "outputs": [
        {
          "output_type": "execute_result",
          "data": {
            "text/plain": [
              "0.5642276422764227"
            ]
          },
          "metadata": {},
          "execution_count": 30
        }
      ]
    },
    {
      "cell_type": "markdown",
      "source": [
        "## Use A5"
      ],
      "metadata": {
        "id": "Z4aQ3vRYxybt"
      }
    },
    {
      "cell_type": "code",
      "source": [
        "def lossA5(y, y_hat, X, s, lam, Py_hat, w_s0, w_s1, b0, b1):\n",
        "    loss = -np.mean(y*(np.log(y_hat)) - (1-y)*np.log(1-y_hat))\n",
        "    for i in range(s.shape[0]):\n",
        "      if s[i] == 0:\n",
        "        loss -= sigmoid(np.dot(X[i], w_s0) + b0)*np.log(R_pr(X, s, w_s0, w_s1, b0, b1, Py_hat)/Py_hat) + lam*np.sum(w_s0)\n",
        "      else:\n",
        "        loss -= sigmoid(np.dot(X[i], w_s1) + b1)*np.log(R_pr(X, s, w_s0, w_s1, b0, b1, Py_hat)/Py_hat) + lam*np.sum(w_s1)\n",
        "    return loss\n",
        "\n",
        "def Py_given_s_hat(X, s, w_s0, w_s1, b0, b1):\n",
        "    Xs = df_selected.loc[df_selected['race'] == s]\n",
        "    return sum(predictA5(X, s, w_s0, w_s1, b0, b1)) / Xs.shape[1]\n",
        "\n",
        "\n",
        "def R_pr(X, s, w_s0, w_s1, b0, b1, Py_hat):\n",
        "    return sum(predictA5(X, s, w_s0, w_s1, b0, b1))* np.log(Py_given_s_hat(X, s, w_s0, w_s1, b0, b1)/Py_hat)\n",
        "\n",
        "def gradientsA5(X, y, y_hat, s, w_s0, w_s1, b0, b1, lam, Py_hat):\n",
        "    \n",
        "    # X --> Input.\n",
        "    # y --> true/target value.\n",
        "    # y_hat --> hypothesis/predictions.\n",
        "    # w --> weights (parameter).\n",
        "    # b --> bias (parameter).\n",
        "    \n",
        "    # m-> number of training examples.\n",
        "    m = X.shape[0]\n",
        "    \n",
        "    # Gradient of loss w.r.t weights.\n",
        "    dw_s0 = np.array([])\n",
        "    dw_s1 = np.array([])\n",
        "\n",
        "    s0_indice = []\n",
        "    s1_indice = []\n",
        "    for i in range(X.shape[0]):\n",
        "        if s[i] == 0:\n",
        "          s0_indice.append(i)\n",
        "        else:\n",
        "          s1_indice.append(i)\n",
        "    \n",
        "    ys0 = (y_hat[s0_indice].reshape(len(s0_indice), 1) - y[s0_indice])\n",
        "    ys1 = (y_hat[s1_indice].reshape(len(s1_indice), 1) - y[s1_indice])\n",
        "    \n",
        "    X0 = X[s0_indice]\n",
        "    X1 = X[s1_indice]\n",
        "    #print(X0.T @ ys0.reshape(ys0.shape[0], 1))\n",
        "    dw_s0 = (1/m)*np.dot(X0.T, ys0) #+ np.dot(X.T, (y_hat - y))*np.log(R_pr(X, s, w_s0, w_s1, b0, b1, Py_hat)/Py_hat) + lam*np.sum(w_s0, w_s1)\n",
        "    dw_s1 = (1/m)*np.matmul(X1.T, ys1) #+ np.dot(X.T, (y_hat - y))*np.log(R_pr(X, s, w_s0, w_s1, b0, b1, Py_hat)/Py_hat) + lam*np.sum(w_s0, w_s1)\n",
        "    \n",
        "    # Gradient of loss w.r.t bias.\n",
        "    db_0 = (1/m)*np.sum((y_hat - y)) \n",
        "    db_1 = (1/m)*np.sum((y_hat - y)) \n",
        "    \n",
        "    return dw_s0, dw_s1, db_0, db_1\n"
      ],
      "metadata": {
        "id": "lQVif50KxxYs"
      },
      "execution_count": 148,
      "outputs": []
    },
    {
      "cell_type": "markdown",
      "source": [
        "## Train with A5"
      ],
      "metadata": {
        "id": "35n8cn4c6DGL"
      }
    },
    {
      "cell_type": "code",
      "source": [
        "def trainA5(X, y, s, bs, epochs, lr, lam):\n",
        "    \n",
        "    # X --> Input.\n",
        "    # y --> true/target value.\n",
        "    # bs --> Batch Size.\n",
        "    # epochs --> Number of iterations.\n",
        "    # lr --> Learning rate.\n",
        "        \n",
        "    # m-> number of training examples\n",
        "    # n-> number of features \n",
        "    m, n = X.shape\n",
        "    \n",
        "    # Initializing weights and bias to zeros.\n",
        "    w_s0 = np.zeros((n,1))\n",
        "    w_s1 = np.zeros((n,1))\n",
        "    b0 = 0\n",
        "    b1 = 0\n",
        "    \n",
        "    Py_hat = sum(predictA5(X, s, w_s0, w_s1, b0, b1)) / X.shape[1]\n",
        "    \n",
        "    # Reshaping y.\n",
        "    y = y.reshape(m,1)\n",
        "    \n",
        "    # Normalizing the inputs.\n",
        "    x = normalize(X)\n",
        "    \n",
        "    # Empty list to store losses.\n",
        "    losses = []\n",
        "    \n",
        "    # Training loop.\n",
        "    for epoch in range(epochs):\n",
        "        for i in range((m-1)//bs + 1):\n",
        "            \n",
        "            # Defining batches. SGD.\n",
        "            start_i = i*bs\n",
        "            end_i = start_i + bs\n",
        "            xb = X[start_i:end_i]\n",
        "            yb = y[start_i:end_i]\n",
        "            sb = s[start_i:end_i]\n",
        "            \n",
        "            # Calculating hypothesis/prediction.\n",
        "            y_hat = predictA5(xb, sb, w_s0, w_s1, b0, b1)\n",
        "            \n",
        "            # Getting the gradients of loss w.r.t parameters.\n",
        "            dw_s0, dw_s1, db_0, db_1 = gradientsA5(xb, yb, y_hat, s, w_s0, w_s1, b0, b1, lam, Py_hat)\n",
        "            \n",
        "            # Updating the parameters.\n",
        "            w_s0 -= lr*dw_s0\n",
        "            w_s1 -= lr*dw_s1\n",
        "            b0 -= lr*db_0\n",
        "            b1 -= lr*db_1\n",
        "            Py_hat = sum(predictA5(X, s, w_s0, w_s1, b0, b1)) / X.shape[1]\n",
        "        \n",
        "        # Calculating loss and appending it in the list.\n",
        "        y_hat = predictA5(xb, sb, w_s0, w_s1, b0, b1)\n",
        "        l = lossA5(y, y_hat, X, s, lam, Py_hat, w_s0, w_s1, b0, b1)\n",
        "        losses.append(l)\n",
        "        \n",
        "    # returning weights, bias and losses(List).\n",
        "    return w_s0, w_s1, b0, b1, l"
      ],
      "metadata": {
        "id": "JyTEId2s5zO4"
      },
      "execution_count": 146,
      "outputs": []
    },
    {
      "cell_type": "markdown",
      "source": [
        "## Predict with A5"
      ],
      "metadata": {
        "id": "SACjllxslhBT"
      }
    },
    {
      "cell_type": "code",
      "source": [
        "def predictA5(X, s, w_s0, w_s1, b0, b1):\n",
        "    \n",
        "    # X --> Input.\n",
        "    \n",
        "    # Normalizing the inputs.\n",
        "    x = normalize(X)\n",
        "    \n",
        "    # Calculating presictions/y_hat.\n",
        "    preds = []\n",
        "    for i in range(X.shape[0]):\n",
        "      if s[i] == 0:\n",
        "        preds.append(sigmoid(np.dot(X[i], w_s0) + b0))\n",
        "      else:\n",
        "        preds.append(sigmoid(np.dot(X[i], w_s1) + b1))\n",
        "    \n",
        "    # Empty List to store predictions.\n",
        "    pred_class = []\n",
        "    # if y_hat >= 0.5 --> round up to 1\n",
        "    # if y_hat < 0.5 --> round up to 1\n",
        "    pred_class = [1 if i > 0.5 else 0 for i in preds]\n",
        "    \n",
        "    return np.array(pred_class)"
      ],
      "metadata": {
        "id": "2ZLOk5RolgNN"
      },
      "execution_count": 67,
      "outputs": []
    },
    {
      "cell_type": "code",
      "source": [
        "X = df_selected[['age', 'priors_count', 'decile_score']].to_numpy(dtype=\"float32\")\n",
        "y = df_selected['two_year_recid'].to_numpy(dtype=\"float32\")\n",
        "S = df_selected['race'].to_numpy(dtype=\"float32\")\n",
        "\n",
        "#w_s0, w_s1, b0, b1, l = trainA5(X, y, S, bs=1000, epochs=10, lr=0.01, lam=0.0001)"
      ],
      "metadata": {
        "id": "wCuGJCUotjai"
      },
      "execution_count": null,
      "outputs": []
    },
    {
      "cell_type": "code",
      "source": [
        "df0 = df_selected.loc[df_selected['race'] == 0]\n",
        "df1 = df_selected.loc[df_selected['race'] == 1]\n",
        "X0 = df0[['age', 'priors_count', 'decile_score']].to_numpy(dtype=\"float32\")\n",
        "X1 = df1[['age', 'priors_count', 'decile_score']].to_numpy(dtype=\"float32\")\n",
        "y0 = df0['two_year_recid'].to_numpy(dtype=\"float32\")\n",
        "y1 = df1['two_year_recid'].to_numpy(dtype=\"float32\")"
      ],
      "metadata": {
        "id": "352WnE11nc5a"
      },
      "execution_count": 150,
      "outputs": []
    },
    {
      "cell_type": "code",
      "source": [
        "w0, b0, l0 = train(X0, y0, bs=1000, epochs=1000, lr=0.01)"
      ],
      "metadata": {
        "id": "kmukcFoHtEgP"
      },
      "execution_count": 152,
      "outputs": []
    },
    {
      "cell_type": "code",
      "source": [
        "w1, b1, l1 = train(X1, y1, bs=1000, epochs=1000, lr=0.01)"
      ],
      "metadata": {
        "id": "46C76VzVtGqG"
      },
      "execution_count": 153,
      "outputs": []
    },
    {
      "cell_type": "code",
      "source": [
        "def predictA5(X, w0, w1, b0, b1, S):\n",
        "    \n",
        "    # X --> Input.\n",
        "    \n",
        "    # Normalizing the inputs.\n",
        "    x = normalize(X)\n",
        "    preds = []\n",
        "    # Calculating presictions/y_hat.\n",
        "    for i in range(S.shape[0]):\n",
        "      if S[i] == 0:\n",
        "          preds.append(sigmoid(np.dot(X[i], w0) + b0)[0])\n",
        "      else:\n",
        "          preds.append(sigmoid(np.dot(X[i], w1) + b1)[0])\n",
        "    \n",
        "    \n",
        "    \n",
        "    # Empty List to store predictions.\n",
        "    pred_class = []\n",
        "    # if y_hat >= 0.5 --> round up to 1\n",
        "    # if y_hat < 0.5 --> round up to 1\n",
        "    pred_class = [1 if i > 0.5 else 0 for i in preds]\n",
        "    \n",
        "    return np.array(pred_class)"
      ],
      "metadata": {
        "id": "a4QzaUg6tJzB"
      },
      "execution_count": 50,
      "outputs": []
    },
    {
      "cell_type": "code",
      "source": [
        "from sklearn.metrics import accuracy_score\n",
        "accuracy_score(y, predictA5(X, w0, w1, b0, b1, S))"
      ],
      "metadata": {
        "colab": {
          "base_uri": "https://localhost:8080/"
        },
        "id": "tHnRa4ly47Jm",
        "outputId": "07fcb6c2-a184-4c6b-bce9-88dbc6029f9c"
      },
      "execution_count": 179,
      "outputs": [
        {
          "output_type": "execute_result",
          "data": {
            "text/plain": [
              "0.6022764227642277"
            ]
          },
          "metadata": {},
          "execution_count": 179
        }
      ]
    },
    {
      "cell_type": "markdown",
      "source": [
        "0.04 percent improvement compared with logistic regression"
      ],
      "metadata": {
        "id": "m4zYw2Ls6Ypf"
      }
    },
    {
      "cell_type": "markdown",
      "source": [
        "## n = 5 features"
      ],
      "metadata": {
        "id": "mMgPGHx8pX1s"
      }
    },
    {
      "cell_type": "code",
      "source": [
        "df_selected2 = df[['two_year_recid', 'race', 'age', 'priors_count', 'decile_score', 'is_violent_recid', 'juv_fel_count']]\n",
        "#df_selected2 = df_selected2.select_dtypes(include=[np.number])\n",
        "\n",
        "# select only African-Amereican and Caucasian\n",
        "df_selected2 = df_selected2.loc[df_selected2['race'].isin(('African-American', 'Caucasian'))]\n",
        "# change African-American = 0, Caucasian = 1\n",
        "df_selected2.loc[df_selected2[\"race\"] == \"African-American\", \"race\"] = 0\n",
        "df_selected2.loc[df_selected2[\"race\"] == \"Caucasian\", \"race\"] = 1\n"
      ],
      "metadata": {
        "id": "QA_yeukbpnAe"
      },
      "execution_count": 45,
      "outputs": []
    },
    {
      "cell_type": "code",
      "source": [
        "# Training \n",
        "X = df_selected2[['race', 'age', 'priors_count', 'decile_score', 'juv_fel_count', 'is_violent_recid']].to_numpy(dtype=\"float32\")\n",
        "y = df_selected2['two_year_recid'].to_numpy(dtype=\"float32\")\n",
        "\n",
        "w, b, l = train(X, y, bs=1000, epochs=1000, lr=0.01)"
      ],
      "metadata": {
        "id": "oRH4D1QDpdjz"
      },
      "execution_count": 46,
      "outputs": []
    },
    {
      "cell_type": "code",
      "source": [
        "accuracy_score(y, predict(X))"
      ],
      "metadata": {
        "colab": {
          "base_uri": "https://localhost:8080/"
        },
        "id": "o9reLyVNprpS",
        "outputId": "46ba1126-b739-4cda-aa33-29cb38cddf6b"
      },
      "execution_count": 47,
      "outputs": [
        {
          "output_type": "execute_result",
          "data": {
            "text/plain": [
              "0.619349593495935"
            ]
          },
          "metadata": {},
          "execution_count": 47
        }
      ]
    },
    {
      "cell_type": "code",
      "source": [
        "X = df_selected2[['age', 'priors_count', 'decile_score', 'is_violent_recid', 'juv_fel_count']].to_numpy(dtype=\"float32\")\n",
        "y = df_selected2['two_year_recid'].to_numpy(dtype=\"float32\")\n",
        "S = df_selected2['race'].to_numpy(dtype=\"float32\")\n",
        "\n",
        "\n",
        "df0 = df_selected2.loc[df_selected['race'] == 0]\n",
        "df1 = df_selected2.loc[df_selected['race'] == 1]\n",
        "X0 = df0[['age', 'priors_count', 'decile_score', 'is_violent_recid', 'juv_fel_count']].to_numpy(dtype=\"float32\")\n",
        "X1 = df1[['age', 'priors_count', 'decile_score', 'is_violent_recid', 'juv_fel_count']].to_numpy(dtype=\"float32\")\n",
        "y0 = df0['two_year_recid'].to_numpy(dtype=\"float32\")\n",
        "y1 = df1['two_year_recid'].to_numpy(dtype=\"float32\")\n",
        "\n",
        "w0, b0, l0 = train(X0, y0, bs=1000, epochs=1000, lr=0.01)\n",
        "\n",
        "w1, b1, l1 = train(X1, y1, bs=1000, epochs=1000, lr=0.01)\n"
      ],
      "metadata": {
        "id": "4P6eKu4Qoa_Z"
      },
      "execution_count": 52,
      "outputs": []
    },
    {
      "cell_type": "code",
      "source": [
        "accuracy_score(y, predictA5(X, w0, w1, b0, b1, S))"
      ],
      "metadata": {
        "colab": {
          "base_uri": "https://localhost:8080/"
        },
        "id": "Ew7DWaYBrYF-",
        "outputId": "e264cd62-f0fa-4044-982f-b187aac8c0ad"
      },
      "execution_count": 53,
      "outputs": [
        {
          "output_type": "execute_result",
          "data": {
            "text/plain": [
              "0.6226016260162601"
            ]
          },
          "metadata": {},
          "execution_count": 53
        }
      ]
    },
    {
      "cell_type": "code",
      "source": [],
      "metadata": {
        "id": "MPvE_5Rdr5qY"
      },
      "execution_count": null,
      "outputs": []
    },
    {
      "cell_type": "markdown",
      "source": [
        "## 7 features"
      ],
      "metadata": {
        "id": "ZXE3Uu96r6wr"
      }
    },
    {
      "cell_type": "code",
      "source": [
        "df_selected3 = df[['two_year_recid', 'race', 'age', 'priors_count', 'juv_fel_count', 'juv_misd_count', 'juv_other_count', 'decile_score', 'is_violent_recid']]\n",
        "# select only African-Amereican and Caucasian\n",
        "df_selected3 = df_selected3.loc[df_selected3['race'].isin(('African-American', 'Caucasian'))]\n",
        "# change African-American = 0, Caucasian = 1\n",
        "df_selected3.loc[df_selected3[\"race\"] == \"African-American\", \"race\"] = 0\n",
        "df_selected3.loc[df_selected3[\"race\"] == \"Caucasian\", \"race\"] = 1"
      ],
      "metadata": {
        "id": "-3mRTFzk6gfH"
      },
      "execution_count": 55,
      "outputs": []
    },
    {
      "cell_type": "code",
      "source": [
        "# Training \n",
        "X = df_selected3[['race', 'age', 'priors_count', 'decile_score', 'juv_fel_count', 'is_violent_recid', 'juv_other_count', 'juv_misd_count']].to_numpy(dtype=\"float32\")\n",
        "y = df_selected3['two_year_recid'].to_numpy(dtype=\"float32\")\n",
        "\n",
        "w, b, l = train(X, y, bs=1000, epochs=1000, lr=0.01)"
      ],
      "metadata": {
        "id": "L5d4iyx3m6fZ"
      },
      "execution_count": 56,
      "outputs": []
    },
    {
      "cell_type": "code",
      "source": [
        "accuracy_score(y, predict(X))"
      ],
      "metadata": {
        "colab": {
          "base_uri": "https://localhost:8080/"
        },
        "id": "kcScj1sqscKL",
        "outputId": "5a8c8dfa-a30d-42e5-d470-c53fa4404bb3"
      },
      "execution_count": 57,
      "outputs": [
        {
          "output_type": "execute_result",
          "data": {
            "text/plain": [
              "0.6208130081300813"
            ]
          },
          "metadata": {},
          "execution_count": 57
        }
      ]
    },
    {
      "cell_type": "code",
      "source": [
        "X = df_selected3[['age', 'priors_count', 'decile_score', 'is_violent_recid', 'juv_fel_count', 'juv_other_count', 'juv_misd_count']].to_numpy(dtype=\"float32\")\n",
        "y = df_selected3['two_year_recid'].to_numpy(dtype=\"float32\")\n",
        "S = df_selected3['race'].to_numpy(dtype=\"float32\")\n",
        "\n",
        "\n",
        "df0 = df_selected3.loc[df_selected['race'] == 0]\n",
        "df1 = df_selected3.loc[df_selected['race'] == 1]\n",
        "X0 = df0[['age', 'priors_count', 'decile_score', 'is_violent_recid', 'juv_fel_count', 'juv_other_count', 'juv_misd_count']].to_numpy(dtype=\"float32\")\n",
        "X1 = df1[['age', 'priors_count', 'decile_score', 'is_violent_recid', 'juv_fel_count', 'juv_other_count', 'juv_misd_count']].to_numpy(dtype=\"float32\")\n",
        "y0 = df0['two_year_recid'].to_numpy(dtype=\"float32\")\n",
        "y1 = df1['two_year_recid'].to_numpy(dtype=\"float32\")\n",
        "\n",
        "w0, b0, l0 = train(X0, y0, bs=1000, epochs=1000, lr=0.01)\n",
        "\n",
        "w1, b1, l1 = train(X1, y1, bs=1000, epochs=1000, lr=0.01)\n"
      ],
      "metadata": {
        "id": "XF0z9vx9m7GT"
      },
      "execution_count": 58,
      "outputs": []
    },
    {
      "cell_type": "code",
      "source": [
        "accuracy_score(y, predictA5(X, w0, w1, b0, b1, S))"
      ],
      "metadata": {
        "colab": {
          "base_uri": "https://localhost:8080/"
        },
        "id": "ZaDk8vGEnQj7",
        "outputId": "bce7f1ff-218c-4c52-a51e-3a31c355c9b3"
      },
      "execution_count": 59,
      "outputs": [
        {
          "output_type": "execute_result",
          "data": {
            "text/plain": [
              "0.6239024390243902"
            ]
          },
          "metadata": {},
          "execution_count": 59
        }
      ]
    }
  ]
}